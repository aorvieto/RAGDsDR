{
 "cells": [
  {
   "cell_type": "code",
   "execution_count": 15,
   "metadata": {},
   "outputs": [
    {
     "name": "stdout",
     "output_type": "stream",
     "text": [
      "Compiling cost function...\n",
      " iter\t\t   cost val\t    grad. norm\n",
      "    1\t+9.6070350752355624e+06\t2.77209705e+05\n",
      "    2\t+9.3357368226359151e+06\t2.65445869e+05\n",
      "    3\t+8.3435652694023997e+06\t2.20889035e+05\n",
      "    4\t+5.7377201915245382e+06\t8.48058995e+04\n",
      "    5\t+4.4236706783112017e+06\t5.08202873e+04\n",
      "    6\t+3.0068689506546529e+06\t2.20654315e+05\n",
      "    7\t+1.5413287535496275e+06\t7.31511163e+04\n",
      "    8\t+6.2353234976540296e+05\t5.27017319e+04\n",
      "    9\t+1.7317441595361626e+05\t4.33728848e+04\n",
      "   10\t+5.0360621930294867e+04\t3.05214309e+04\n",
      "   11\t+1.9979810055547139e+03\t5.53372636e+03\n",
      "   12\t+6.8100791285939204e+02\t3.38756212e+03\n",
      "   13\t+5.8149553662740493e+02\t3.08070084e+03\n",
      "   14\t+2.5112194823173587e+02\t2.03133621e+03\n",
      "   15\t+2.6132759313348259e+01\t6.61835312e+02\n",
      "   16\t+1.5981673414480199e-01\t5.13186139e+01\n",
      "   17\t+1.4015694272347931e-02\t1.50751890e+01\n",
      "   18\t+1.7010662083096497e-03\t5.22628767e+00\n",
      "   19\t+1.2481301427077376e-03\t4.57314167e+00\n",
      "   20\t+9.4358589376675008e-05\t1.25306160e+00\n",
      "   21\t+2.7340581832934133e-05\t6.76373775e-01\n",
      "   22\t+1.4543742688052988e-06\t1.55412495e-01\n",
      "   23\t+2.8851983296040937e-08\t2.05098271e-02\n",
      "   24\t+1.3625861489641892e-08\t1.50297057e-02\n",
      "   25\t+3.0656676772662151e-10\t2.10575626e-03\n",
      "   26\t+8.3563104406276843e-11\t1.15603296e-03\n",
      "   27\t+1.3333144707977803e-11\t4.62604305e-04\n",
      "   28\t+1.9151400039160583e-12\t1.74942243e-04\n",
      "   29\t+5.7728597503974774e-13\t9.76632286e-05\n",
      "   30\t+2.1552100323847742e-14\t1.80328396e-05\n",
      "   31\t+1.1319286111400902e-14\t1.37212861e-05\n",
      "   32\t+7.5880800779651609e-15\t1.12841033e-05\n",
      "   33\t+4.6793337238723570e-18\t2.28812343e-07\n",
      "Terminated - min grad norm reached after 33 iterations, 0.77 seconds.\n",
      "\n"
     ]
    }
   ],
   "source": [
    "import numpy as np\n",
    "import numpy.linalg as la\n",
    "import numpy.random as rnd\n",
    "\n",
    "from pymanopt import Problem\n",
    "from pymanopt.manifolds import PSDFixedRank\n",
    "from pymanopt.solvers import SteepestDescent\n",
    "\n",
    "# Generate random problem data.\n",
    "n = 1000\n",
    "k = 5\n",
    "Y = rnd.randn(n, k)\n",
    "A = Y.dot(Y.T)\n",
    "\n",
    "# Solve the problem with pymanopt.\n",
    "\n",
    "manifold = PSDFixedRank(n, k)\n",
    "solver = SteepestDescent()\n",
    "\n",
    "def cost(Y): return la.norm(Y.dot(Y.T) - A, \"fro\") ** 2\n",
    "def egrad(Y): return 4 * (Y.dot(Y.T) - A).dot(Y)\n",
    "def ehess(Y, U): return 4 * ((Y.dot(U.T) + U.dot(Y.T)).dot(Y) + (Y.dot(Y.T) - A).dot(U))\n",
    "\n",
    "problem = Problem(manifold=manifold, cost=cost, egrad=egrad, ehess=ehess)\n",
    "Y_opt= solver.solve(problem)"
   ]
  },
  {
   "cell_type": "code",
   "execution_count": null,
   "metadata": {},
   "outputs": [],
   "source": [
    "cost(Y_opt)"
   ]
  }
 ],
 "metadata": {
  "kernelspec": {
   "display_name": "Python 3",
   "language": "python",
   "name": "python3"
  },
  "language_info": {
   "codemirror_mode": {
    "name": "ipython",
    "version": 3
   },
   "file_extension": ".py",
   "mimetype": "text/x-python",
   "name": "python",
   "nbconvert_exporter": "python",
   "pygments_lexer": "ipython3",
   "version": "3.7.1"
  }
 },
 "nbformat": 4,
 "nbformat_minor": 2
}
